{
 "cells": [
  {
   "cell_type": "code",
   "execution_count": 1,
   "id": "32de3ca3",
   "metadata": {},
   "outputs": [
    {
     "name": "stderr",
     "output_type": "stream",
     "text": [
      "\u001b[32m\u001b[1m  Activating\u001b[22m\u001b[39m project at `~/Documents/Bachelor Thesis Stuff/bachelorsthesis`\n"
     ]
    }
   ],
   "source": [
    "import Pkg; Pkg.activate(@__DIR__)\n",
    "using Pkg; Pkg.instantiate()\n",
    "using DifferentialEquations, LinearAlgebra, Statistics, Random, HypothesisTests\n",
    "using StatsPlots, Plots, Distributions, KernelDensity, StatsBase, CSV, DataFrames\n",
    "using LaTeXStrings, Measures, FileIO, JLD2"
   ]
  },
  {
   "cell_type": "code",
   "execution_count": 2,
   "id": "a853ebc0",
   "metadata": {},
   "outputs": [
    {
     "name": "stdout",
     "output_type": "stream",
     "text": [
      "4001 time steps\n",
      "Initial conditions: [1.85, 0.0, 0.762155059, 61.957, 12.30333333, 0.0]\n"
     ]
    }
   ],
   "source": [
    "# === Load Experimental Data ===\n",
    "df = CSV.read(\"datasetsMA/nitrogenlim.csv\", DataFrame)\n",
    "dfs = hcat(df.Xa, df.Xi, df.N, df.S, df.FG, df.MA)\n",
    "u0 = dfs[1, :]\n",
    "t_exp = df.time\n",
    "T = 40\n",
    "tspan = (0.0, T)\n",
    "dt = 0.01\n",
    "tsteps = collect(0.0:dt:T)\n",
    "Nt = length(tsteps)\n",
    "\n",
    "# === Define ODE Model ===\n",
    "function f!(du, u, p, t)\n",
    "    # Unpack state and parameters\n",
    "    μmax, KFG, KN, YXa_S, YXi_S, YXa_N, YP_S, ϕ, χacc, μ2max, qsplit_max, Ksuc, qpmax, KIP, KIN, KPFG, KFG2, σxa, σxi, σn, σs, σfg, σp = p\n",
    "    Xact, Xinact, N, Suc, FruGlu, P = u\n",
    "\n",
    "    # Ensure non-negative values\n",
    "    ϵ = 1e-8  # Small positive value to avoid division by zero\n",
    "    Xact_safe = max(Xact, ϵ)\n",
    "    Xtot_safe = max(Xact + Xinact, ϵ)\n",
    "    FruGlu_safe = max(FruGlu, ϵ)\n",
    "    Suc_safe = max(Suc, ϵ)\n",
    "\n",
    "    # Algebraic equations\n",
    "    Xtot = Xact + Xinact\n",
    "    N_int = 0.08 * N\n",
    "    ratio = Xinact / Xact_safe\n",
    "    expo_term = (ratio - ϕ) / χacc\n",
    "\n",
    "    μ = μmax * FruGlu_safe / (FruGlu_safe + KFG + ϵ) * (N / (N+ KN + ϵ))\n",
    "    μ2 = μ2max * FruGlu_safe / (FruGlu_safe + KFG2 + ϵ) * (1 - exp(expo_term)) * KIN / (KIN + N + ϵ)\n",
    "    qsplit = qsplit_max * Suc_safe / (Suc_safe + Ksuc + ϵ)\n",
    "    qp = qpmax * FruGlu_safe / (FruGlu_safe + KPFG + ϵ) *\n",
    "         (KIP / (KIP + N_int / Xtot_safe + ϵ)) * KIN / (KIN + N + ϵ)\n",
    "\n",
    "    du[1] = μ * Xact\n",
    "    du[2] = μ2 * Xact\n",
    "    du[3] = - (μ / YXa_N) * Xact\n",
    "    du[4] = - qsplit * Xact\n",
    "    du[5] = (qsplit - μ / YXa_S - μ2 / YXi_S - qp / YP_S) * Xact\n",
    "    du[6] = qp * Xact\n",
    "end\n",
    "\n",
    "# === Define Noise Function ===\n",
    "function noise!(du, u, p, t)\n",
    "    Xact, Xinact, N, Suc, FruGlu, P = u\n",
    "    μmax, KFG, KN, YXa_S, YXi_S, YXa_N, YP_S, ϕ, χacc, μ2max, qsplit_max, Ksuc, qpmax, KIP, KIN, KPFG, KFG2, σxa, σxi, σn, σs, σfg, σp = p\n",
    "    du[1] = σxa * FruGlu / (FruGlu + (KFG)) * Xact\n",
    "    du[2] = σxi * FruGlu / (FruGlu + (KFG2)) * Xact\n",
    "    du[3] = σn * N / (N + KN) * Xact\n",
    "    du[4] = σs * Suc / (Suc + Ksuc) * Xact\n",
    "    du[5] = σfg * FruGlu / (FruGlu + (Ksuc + KFG + KFG2 + KPFG)) * Xact\n",
    "    du[6] = σp * FruGlu / (FruGlu + (KPFG)) * Xact\n",
    "end\n",
    "\n",
    "# === Parameters ===\n",
    "params = [\n",
    "    0.125,  # 1. μmax\n",
    "    0.147,  # 2. KFG\n",
    "    3.8e-5,  # 3. KN\n",
    "    0.531,  # 4. YXa_S\n",
    "    0.799,  # 5. YXi_S\n",
    "    9.428,  # 6. YXa_N\n",
    "    0.508,  # 7. YP_S\n",
    "    1.56,  # 7. ϕ\n",
    "    0.3,  # 8. χacc\n",
    "    0.125,  # 9. μ2max\n",
    "    1.985,  # 10. qsplit_max\n",
    "    0.00321,  # 11. Ksuc\n",
    "    0.095,  # 12. qpmax\n",
    "    1.47e-1,  # 13. KIP\n",
    "    1.47e-2,  # 14. KIN\n",
    "    0.0175,  # 15. KPFG\n",
    "    3.277,  # 16. KFG2\n",
    "    5e-2,   # 17. σxa\n",
    "    5e-2,   # 18. σxi\n",
    "    1e-2,   # 19. σn\n",
    "    5e-2,   # 20. σs\n",
    "    5e-2,   # 21. σfg\n",
    "    5e-2    # 22. σp\n",
    "]\n",
    "\n",
    "# === Solve the ODE ===\n",
    "odeprob = ODEProblem(f!, u0, tspan, params)\n",
    "odesol = solve(odeprob, Rosenbrock23(), saveat=tsteps, abstol=1e-8, reltol=1e-6)\n",
    "\n",
    "# === Extract ODE solution ===\n",
    "Xa_ode = odesol[1, :]\n",
    "Xi_ode = odesol[2, :]\n",
    "N_ode  = odesol[3, :]\n",
    "Suc_ode = odesol[4, :]\n",
    "FG_ode = odesol[5, :]\n",
    "P_ode = odesol[6, :]\n",
    "\n",
    "# === Important Information ===\n",
    "println(Nt, \" time steps\")\n",
    "println(\"Initial conditions: \", u0)"
   ]
  },
  {
   "cell_type": "markdown",
   "id": "f5ea1bb4",
   "metadata": {},
   "source": [
    "### Simulation Set 1"
   ]
  },
  {
   "cell_type": "code",
   "execution_count": 3,
   "id": "963f2430",
   "metadata": {},
   "outputs": [
    {
     "data": {
      "text/plain": [
       "EnsembleSolution Solution of length 4001 with uType:\n",
       "Float64"
      ]
     },
     "metadata": {},
     "output_type": "display_data"
    }
   ],
   "source": [
    "# Load the saved ensemble solution\n",
    "ensemble_sol = load(\"ensembledata/ensemble_sol.jld2\", \"ensemble_sol\")\n",
    "\n",
    "# Extract results\n",
    "Xact_mat = hcat([sol[1, :] for sol in ensemble_sol]...)\n",
    "Xinact_mat = hcat([sol[2, :] for sol in ensemble_sol]...)\n",
    "N_mat = hcat([sol[3, :] for sol in ensemble_sol]...)\n",
    "Suc_mat = hcat([sol[4, :] for sol in ensemble_sol]...)\n",
    "FruGlu_mat = hcat([sol[5, :] for sol in ensemble_sol]...)\n",
    "P_mat = hcat([sol[6, :] for sol in ensemble_sol]...)\n",
    "\n",
    "# Ensemble Summary\n",
    "summ = EnsembleSummary(ensemble_sol, tsteps)"
   ]
  },
  {
   "cell_type": "markdown",
   "id": "0c5ca262",
   "metadata": {},
   "source": [
    "### Simulation Set 2"
   ]
  },
  {
   "cell_type": "code",
   "execution_count": 4,
   "id": "15aff6c8",
   "metadata": {},
   "outputs": [
    {
     "data": {
      "text/plain": [
       "EnsembleSolution Solution of length 4001 with uType:\n",
       "Float64"
      ]
     },
     "metadata": {},
     "output_type": "display_data"
    }
   ],
   "source": [
    "# Load the saved ensemble solution\n",
    "ensemble_sol2 = load(\"ensembledata/ensemble_sol2.jld2\", \"ensemble_sol\")\n",
    "\n",
    "# Extract results\n",
    "Xact_mat2 = hcat([sol[1, :] for sol in ensemble_sol2]...)\n",
    "Xinact_mat2 = hcat([sol[2, :] for sol in ensemble_sol2]...)\n",
    "N_mat2 = hcat([sol[3, :] for sol in ensemble_sol2]...)\n",
    "Suc_mat2 = hcat([sol[4, :] for sol in ensemble_sol2]...)\n",
    "FruGlu_mat2 = hcat([sol[5, :] for sol in ensemble_sol2]...)\n",
    "P_mat2 = hcat([sol[6, :] for sol in ensemble_sol2]...)\n",
    "\n",
    "# Ensemble Summary\n",
    "summ2 = EnsembleSummary(ensemble_sol, tsteps)"
   ]
  },
  {
   "cell_type": "markdown",
   "id": "ffd71ef7",
   "metadata": {},
   "source": [
    "### LSMC"
   ]
  },
  {
   "cell_type": "code",
   "execution_count": 5,
   "id": "4a2e8ec8",
   "metadata": {},
   "outputs": [
    {
     "name": "stdout",
     "output_type": "stream",
     "text": [
      "Threshold for stopping condition: 3.7130166664999997\n"
     ]
    }
   ],
   "source": [
    "# === Laguerre basis functions up to degree 3 ===\n",
    "d = 3  # Degree of the Laguerre polynomial\n",
    "M = 5000  # Number of simulations\n",
    "\n",
    "function laguerre_design_matrix(y::Vector{Float64}, d::Int)\n",
    "    Φ = zeros(length(y), d + 1)\n",
    "    for i in 1:length(y)\n",
    "        Φ[i,1] = 1.0\n",
    "        if d >= 1\n",
    "            Φ[i,2] = 1 - y[i]\n",
    "        end\n",
    "        if d >= 2\n",
    "            Φ[i,3] = 1 - 2*y[i] + 0.5*y[i]^2\n",
    "        end\n",
    "        if d >= 3\n",
    "            Φ[i,4] = 1 - 3*y[i] + 1.5*y[i]^2 - (1/6)*y[i]^3\n",
    "        end\n",
    "    end\n",
    "    return Φ\n",
    "end\n",
    "\n",
    "# === Reward function ===\n",
    "thresh = 0.05 *  (u0[4] + u0[5]) # Threshold for stopping condition: 5% of initial substrates (Suc + FruGlu)\n",
    "reward(s) = -(s-thresh)^2\n",
    "\n",
    "# === Important Information ===\n",
    "println(\"Threshold for stopping condition: \", thresh)"
   ]
  },
  {
   "cell_type": "code",
   "execution_count": 6,
   "id": "701b10c3",
   "metadata": {},
   "outputs": [
    {
     "name": "stdout",
     "output_type": "stream",
     "text": [
      "size(s_valid) = (4001, 3006)\n"
     ]
    },
    {
     "data": {
      "text/plain": [
       "(4001, 3006)"
      ]
     },
     "metadata": {},
     "output_type": "display_data"
    }
   ],
   "source": [
    "# === Calculate the reward at all time steps ===\n",
    "rewards = reward.(FruGlu_mat)\n",
    "\n",
    "# === Filter the paths that have not reached the threshold at the last time step (in-the-money) ===\n",
    "valid_paths = findall(i -> FruGlu_mat[Nt, i] < thresh, 1:M)\n",
    "if isempty(valid_paths)\n",
    "    error(\"No valid paths found at the last time step.\")\n",
    "end\n",
    "\n",
    "# === Prepare the matrices for backward induction ===\n",
    "# Only keep the valid paths for the backward induction\n",
    "s_valid = FruGlu_mat[:, valid_paths] \n",
    "rewards_valid = rewards[:, valid_paths]\n",
    "τ = fill(Nt, length(valid_paths)) \n",
    "\n",
    "# === The backward induction ===\n",
    "for n in (Nt-1):-1:2\n",
    "    itm_idx = findall(i -> s_valid[n, i] < thresh, 1:length(valid_paths)) \n",
    "    s_itm = s_valid[:, itm_idx]  # Stores all in-the-money paths\n",
    "    s_now = s_itm[n, :]  # Current state for itm paths\n",
    "    s_future = s_valid[n+1, itm_idx] # Future state for itm paths\n",
    "    reward_now = reward.(s_now)  # Rewards at the current time step\n",
    "    reward_future = collect(Float64, reward.(s_future))\n",
    "    \n",
    "    # Regression and saving the coefficients\n",
    "    ϕ = laguerre_design_matrix(s_now, d)\n",
    "    β = ϕ \\ reward_future  # Solve the linear system to find coefficients\n",
    "    E = ϕ * β  # Calculate the expected reward for the valid paths\n",
    "\n",
    "    for (k,i) in enumerate(itm_idx)\n",
    "        if E[k] ≤ reward_now[k]  # If the expected reward is less than or equal to the current reward\n",
    "            τ[k] = min(n, τ[k])  # Update the stopping time for this path\n",
    "            rewards_valid[n, k] = reward_now[k]  # Keep the current reward\n",
    "        else\n",
    "            rewards_valid[n, k] = rewards_valid[n+1, k]  # Otherwise, carry forward\n",
    "        end\n",
    "    end\n",
    "end\n",
    "\n",
    "@show size(s_valid)"
   ]
  },
  {
   "cell_type": "code",
   "execution_count": 7,
   "id": "4ceb4dd9",
   "metadata": {},
   "outputs": [
    {
     "name": "stdout",
     "output_type": "stream",
     "text": [
      "size(s_valid2) = (4001, 2934)\n"
     ]
    },
    {
     "data": {
      "text/plain": [
       "(4001, 2934)"
      ]
     },
     "metadata": {},
     "output_type": "display_data"
    }
   ],
   "source": [
    "# === Calculate the reward at all time steps ===\n",
    "rewards2 = reward.(FruGlu_mat2)\n",
    "\n",
    "# === Filter the paths that have not reached the threshold at the last time step (in-the-money) ===\n",
    "valid_paths2 = findall(i -> FruGlu_mat2[Nt, i] < thresh, 1:M)\n",
    "if isempty(valid_paths2)\n",
    "    error(\"No valid paths found at the last time step.\")\n",
    "end\n",
    "\n",
    "# === Prepare the matrices for backward induction ===\n",
    "# Only keep the valid paths for the backward induction\n",
    "s_valid2 = FruGlu_mat2[:, valid_paths2] \n",
    "rewards_valid2 = rewards2[:, valid_paths2]\n",
    "τ2 = fill(Nt, length(valid_paths2)) \n",
    "\n",
    "# === The backward induction ===\n",
    "for n in (Nt-1):-1:2\n",
    "    itm_idx = findall(i -> s_valid2[n, i] < thresh, 1:length(valid_paths2)) \n",
    "    s_itm = s_valid2[:, itm_idx]  # Stores all in-the-money paths\n",
    "    s_now = s_itm[n, :]  # Current state for itm paths\n",
    "    s_future = s_valid2[n+1, itm_idx] # Future state for itm paths\n",
    "    reward_now = reward.(s_now)  # Rewards at the current time step\n",
    "    reward_future = collect(Float64, reward.(s_future))\n",
    "    \n",
    "    # Regression and saving the coefficients\n",
    "    ϕ = laguerre_design_matrix(s_now, d)\n",
    "    β = ϕ \\ reward_future  # Solve the linear system to find coefficients\n",
    "    E = ϕ * β  # Calculate the expected reward for the valid paths\n",
    "\n",
    "    for (k,i) in enumerate(itm_idx)\n",
    "        if E[k] ≤ reward_now[k]  # If the expected reward is less than or equal to the current reward\n",
    "            τ2[k] = min(n, τ2[k])  # Update the stopping time for this path\n",
    "            rewards_valid2[n, k] = reward_now[k]  # Keep the current reward\n",
    "        else\n",
    "            rewards_valid2[n, k] = rewards_valid2[n+1, k]  # Otherwise, carry forward\n",
    "        end\n",
    "    end\n",
    "end\n",
    "\n",
    "@show size(s_valid2)"
   ]
  },
  {
   "cell_type": "markdown",
   "id": "321daf03",
   "metadata": {},
   "source": [
    "### Statistics"
   ]
  },
  {
   "cell_type": "code",
   "execution_count": 20,
   "id": "942d7154",
   "metadata": {},
   "outputs": [
    {
     "data": {
      "text/plain": [
       "\"/Users/rafif/Documents/Bachelor Thesis Stuff/bachelorsthesis/Figures/2KDE_plots.pdf\""
      ]
     },
     "metadata": {},
     "output_type": "display_data"
    }
   ],
   "source": [
    "# === Identify when the deterministic case would have reached the threshold ===\n",
    "ode_hit_index = findfirst(x -> x <= thresh, FG_ode)\n",
    "ode_hit_time = tsteps[ode_hit_index]\n",
    "\n",
    "# === Compile the optimal stopping times ===\n",
    "stop_idx   = copy(τ)          \n",
    "stop_data  = tsteps[stop_idx]\n",
    "stop_times_avg = mean(stop_data)\n",
    "\n",
    "# === Compile the optimal stopping times ===\n",
    "stop_idx2   = copy(τ2)          \n",
    "stop_data2  = tsteps[stop_idx2]\n",
    "stop_times_avg2 = mean(stop_data2)\n",
    "\n",
    "# === Prepare a common x‐range for the curves ===\n",
    "xmin = minimum([minimum(stop_data), minimum(stop_data2)])\n",
    "xmax = 42 # maximum([maximum(hit_data), maximum(stop_data)])\n",
    "xs   = range(xmin, xmax; length=200)\n",
    "\n",
    "# === Kernel density estimation for the hit and stop times ===\n",
    "kde_stop = kde(stop_data)\n",
    "kde_stop2 = kde(stop_data2)\n",
    "\n",
    "# === Plot the results ===\n",
    "plot(xlabel=\"Time / h\", ylabel=\"Density\", legend=:topleft, linewidth=2, size=(900, 600), fontfamily=\"Computer Modern\", margins=5mm,\n",
    "     xlims=(xmin, xmax), ylims=(0, 0.09), legendfont = 12, tickfont = 11, guidefont = 16)\n",
    "plot!(xs, pdf(kde_stop, xs), label=\"KDE of Stop Times (Set 1)\", color=:blue, linewidth=2)\n",
    "vline!([stop_times_avg], label=\"Average Stop Time (Set 1)\", color=:blue, linestyle=:dot, linewidth=2)\n",
    "plot!(xs, pdf(kde_stop2, xs), label=\"KDE of Stop Times (Set 2)\", color=:red, linewidth=2)\n",
    "vline!([stop_times_avg2], label=\"Average Stop Time (Set 2)\", color=:red, linestyle=:dot, linewidth=2)\n",
    "vline!([ode_hit_time], label=\"ODE Hit Time\", color=:black, linestyle=:dashdot, linewidth=2)\n",
    "\n",
    "savefig(\"Figures/2KDE_plots.pdf\")\n"
   ]
  }
 ],
 "metadata": {
  "kernelspec": {
   "display_name": "Julia 1.11.5",
   "language": "julia",
   "name": "julia-1.11"
  },
  "language_info": {
   "file_extension": ".jl",
   "mimetype": "application/julia",
   "name": "julia",
   "version": "1.11.5"
  }
 },
 "nbformat": 4,
 "nbformat_minor": 5
}
