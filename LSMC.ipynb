{
 "cells": [
  {
   "cell_type": "code",
   "execution_count": null,
   "id": "4a131f4c",
   "metadata": {},
   "outputs": [],
   "source": [
    "# Importing libraries and modules\n",
    "import Pkg; Pkg.activate(\"..\")\n",
    "using Pkg; Pkg.instantiate()\n",
    "include(\"MonodSDEsim.jl\")\n",
    "using .MonodSDEsim, Plots"
   ]
  },
  {
   "cell_type": "markdown",
   "id": "836acc62",
   "metadata": {},
   "source": [
    "### Biochemical Reaction Kinetics\n",
    "\n",
    "Consider the following biochemical reactions\n",
    "\n",
    "$$ \n",
    "\\begin{align}\n",
    "    \\text{Substrate S} &\\xrightarrow{\\text{Biomass X}} \\text{more Biomass X}, \\\\\n",
    "    \\text{Substrate S} &\\xrightarrow{\\text{Biomass X}} \\text{Product Y}, \\\\\n",
    "    \\text{Product Y} &\\xrightarrow{\\text{Biomass X}} \\text{Byproduct Z}.\n",
    "\\end{align}\n",
    "$$"
   ]
  },
  {
   "cell_type": "code",
   "execution_count": null,
   "id": "e00969a2",
   "metadata": {},
   "outputs": [],
   "source": [
    "# Setting up the model parameters\n",
    "# The parameters are defined in a dictionary for easy access and modification\n",
    "params  = Dict(\n",
    "    \"μ_max\" => 0.244, \n",
    "    \"K_sx\" => 0.15, \n",
    "    \"Y_xs\" => 0.28,\n",
    "    \"Y_ys\" => 0.42,\n",
    "    \"m_s\" => 0.015,\n",
    "    \"q_max_y\" => 1.79,\n",
    "    \"K_sy\" => 1.68,\n",
    "    \"q_max_z\" => 0.11,\n",
    "    \"K_sz\" => 0.15,\n",
    "    \"σs\" => 0.5, \n",
    "    \"K_σs\" => 0.1,\n",
    "    \"σx\" => 0.05, \n",
    "    \"K_σx\" => 0.1,\n",
    "    \"σy\" => 0.05,\n",
    "    \"K_σy\" => 0.1, \n",
    "    \"σz\" => 0.05,\n",
    "    \"K_σz\" => 0.1\n",
    ")\n",
    "\n",
    "# Initial conditions for the state variables\n",
    "# The initial conditions are defined in a dictionary for easy access and modification\n",
    "init = Dict(\n",
    "    \"S0\" => 25.0, \n",
    "    \"X0\" => 1.0, \n",
    "    \"Y0\" => 0, \n",
    "    \"Z0\" => 0\n",
    ")\n",
    "\n",
    "# Time parameters\n",
    "tspan = (0.0, 10.0)  # Time span for the simulation\n",
    "\n",
    "sol = simulate(params, tspan, init)\n",
    "\n",
    "# Plotting the results\n",
    "plot(sol, title=\"Monod SDE Simulation\", label=[\"Substrate (S)\" \"Biomass (X)\" \"Product (P)\" \"Byproduct (Z)\"], xlabel=\"Time\", ylabel=\"Concentration\")\n",
    "plot!(legend=:topright, fontfamily=\"Computer Modern\", lw=2, markersize=4, grid=true, ylims=(0, init[\"S0\"]), xlims=(0, 10),)"
   ]
  }
 ],
 "metadata": {
  "kernelspec": {
   "display_name": "Julia 1.11.2",
   "language": "julia",
   "name": "julia-1.11"
  },
  "language_info": {
   "file_extension": ".jl",
   "mimetype": "application/julia",
   "name": "julia",
   "version": "1.11.2"
  }
 },
 "nbformat": 4,
 "nbformat_minor": 5
}
