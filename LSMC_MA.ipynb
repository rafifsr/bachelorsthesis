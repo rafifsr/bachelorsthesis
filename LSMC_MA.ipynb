{
 "cells": [
  {
   "cell_type": "code",
   "execution_count": 75,
   "id": "cf1404c3",
   "metadata": {},
   "outputs": [
    {
     "name": "stderr",
     "output_type": "stream",
     "text": [
      "\u001b[32m\u001b[1m  Activating\u001b[22m\u001b[39m project at `~/Documents/Bachelor Thesis Stuff/bachelorsthesis`\n"
     ]
    }
   ],
   "source": [
    "import Pkg; Pkg.activate(@__DIR__)\n",
    "using Pkg; Pkg.instantiate()\n",
    "using DifferentialEquations, LinearAlgebra, Statistics, Random\n",
    "using Plots, Distributions, KernelDensity, StatsBase, CSV, DataFrames\n",
    "using LaTeXStrings, Measures"
   ]
  },
  {
   "cell_type": "markdown",
   "id": "f14e1fb2",
   "metadata": {},
   "source": [
    "### Reaction Kinetics"
   ]
  },
  {
   "cell_type": "code",
   "execution_count": 76,
   "id": "0def9309",
   "metadata": {},
   "outputs": [
    {
     "data": {
      "text/plain": [
       "3984-element Vector{Float64}:\n",
       "  0.0\n",
       "  3.3758095455225526e-6\n",
       "  6.756997945618739e-6\n",
       "  1.014356910270506e-5\n",
       "  1.3535523125115027e-5\n",
       "  1.693289154482288e-5\n",
       "  2.0335677104137642e-5\n",
       "  2.3743873682775076e-5\n",
       "  2.7157481100496607e-5\n",
       "  3.057656135680802e-5\n",
       "  ⋮\n",
       " 21.94255229450724\n",
       " 21.942552578308216\n",
       " 21.94255286210919\n",
       " 21.94255314591016\n",
       " 21.94255342971113\n",
       " 21.9425537135121\n",
       " 21.94255399731307\n",
       " 21.94255428111404\n",
       " 21.94255456491501"
      ]
     },
     "metadata": {},
     "output_type": "display_data"
    }
   ],
   "source": [
    "# === Load Experimental Data ===\n",
    "df = CSV.read(\"datasetsMA/nitrogenlim.csv\", DataFrame)\n",
    "dfs = hcat(df.Xa, df.Xi, df.N, df.S, df.FG, df.MA)\n",
    "u0 = dfs[1, :]\n",
    "t_exp = df.time\n",
    "T = maximum(t_exp)\n",
    "tspan = (0.0, T)\n",
    "dt = 0.01\n",
    "tsteps = collect(0.0:dt:T)\n",
    "\n",
    "# === Define ODE Model ===\n",
    "function f!(du, u, p, t)\n",
    "    # Unpack state and parameters\n",
    "    μmax, KFG, KN, YXa_S, YXi_S, YXa_N, YP_S, ϕ, χacc, μ2max, qsplit_max, Ksuc, qpmax, KIP, KIN, KPFG, KFG2, σxa, σxi, σs, σfg, σp = p\n",
    "    Xact, Xinact, N, Suc, FruGlu, P = u\n",
    "\n",
    "    # Ensure non-negative values\n",
    "    ϵ = 1e-8  # Small positive value to avoid division by zero\n",
    "    Xact_safe = max(Xact, ϵ)\n",
    "    Xtot_safe = max(Xact + Xinact, ϵ)\n",
    "    FruGlu_safe = max(FruGlu, ϵ)\n",
    "    Suc_safe = max(Suc, ϵ)\n",
    "\n",
    "    # Algebraic equations\n",
    "    Xtot = Xact + Xinact\n",
    "    N_int = 0.08 * N\n",
    "    ratio = Xinact / Xact_safe\n",
    "    expo_term = (ratio - ϕ) / χacc\n",
    "\n",
    "    μ = μmax * FruGlu_safe / (FruGlu_safe + KFG + ϵ) * (N / (N+ KN + ϵ))\n",
    "    μ2 = μ2max * FruGlu_safe / (FruGlu_safe + KFG2 + ϵ) * (1 - exp(expo_term)) * KIN / (KIN + N + ϵ)\n",
    "    qsplit = qsplit_max * Suc_safe / (Suc_safe + Ksuc + ϵ)\n",
    "    qp = qpmax * FruGlu_safe / (FruGlu_safe + KPFG + ϵ) *\n",
    "         (KIP / (KIP + N_int / Xtot_safe + ϵ)) * KIN / (KIN + N + ϵ)\n",
    "\n",
    "    du[1] = μ * Xact\n",
    "    du[2] = μ2 * Xact\n",
    "    du[3] = - (μ / YXa_N) * Xact\n",
    "    du[4] = - qsplit * Xact\n",
    "    du[5] = (qsplit - μ / YXa_S - μ2 / YXi_S - qp / YP_S) * Xact\n",
    "    du[6] = qp * Xact\n",
    "end\n",
    "\n",
    "# === Define Noise Function ===\n",
    "function noise!(du, u, p, t)\n",
    "    Xact, Xinact, N, Suc, FruGlu, P = u\n",
    "    μmax, KFG, KN, YXa_S, YXi_S, YXa_N, YP_S, ϕ, χacc, μ2max, qsplit_max, Ksuc, qpmax, KIP, KIN, KPFG, KFG2, σxa, σxi, σs, σfg, σp = p\n",
    "    du[1] = σxa * FruGlu / (FruGlu + (KFG)) * Xact\n",
    "    du[2] = σxi * FruGlu / (FruGlu + (KFG2)) * Xinact\n",
    "    # du[3] = (σxa / YXa_N) * FruGlu / (FruGlu + (KFG)) * Xact\n",
    "    # du[4] = σs * Suc / (Suc + Ksuc) * Xact\n",
    "    du[5] = σfg * FruGlu / (FruGlu + Ksuc) * (Xact + Xinact)\n",
    "    du[6] = σp * FruGlu / (FruGlu + (KPFG)) * Xact\n",
    "end\n",
    "\n",
    "# === Parameters ===\n",
    "params = [\n",
    "    0.125,  # 1. μmax\n",
    "    0.147,  # 2. KFG\n",
    "    3.8e-5,  # 3. KN\n",
    "    0.531,  # 4. YXa_S\n",
    "    0.799,  # 5. YXi_S\n",
    "    9.428,  # 6. YXa_N\n",
    "    0.508,  # 7. YP_S\n",
    "    1.56,  # 7. ϕ\n",
    "    0.3,  # 8. χacc\n",
    "    0.125,  # 9. μ2max\n",
    "    1.985,  # 10. qsplit_max\n",
    "    0.00321,  # 11. Ksuc\n",
    "    0.095,  # 12. qpmax\n",
    "    1.5,  # 13. KIP\n",
    "    1.5e-3,  # 14. KIN\n",
    "    0.0175,  # 15. KPFG\n",
    "    3.277,  # 16. KFG2\n",
    "    0.05,   # 17. σxa\n",
    "    0.05,   # 18. σxi\n",
    "    0.05,   # 19. σn\n",
    "    0.05,   # 20. σs\n",
    "    0.05,   # 21. σfg\n",
    "    0.05    # 22. σp\n",
    "]\n",
    "\n",
    "# === Solve the ODE ===\n",
    "odeprob = ODEProblem(f!, u0, tspan, params)\n",
    "odesol = solve(odeprob, Rosenbrock23(), saveat=tsteps, abstol=1e-8, reltol=1e-6)\n",
    "\n",
    "# === Extract ODE solution ===\n",
    "Xa_ode = odesol[1, :]\n",
    "Xi_ode = odesol[2, :]\n",
    "N_ode  = odesol[3, :]\n",
    "Suc_ode = odesol[4, :]\n",
    "FG_ode = odesol[5, :]\n",
    "P_ode = odesol[6, :]"
   ]
  },
  {
   "cell_type": "markdown",
   "id": "13a15911",
   "metadata": {},
   "source": [
    "### Monte Carlo Simulations"
   ]
  },
  {
   "cell_type": "code",
   "execution_count": 77,
   "id": "c2585585",
   "metadata": {},
   "outputs": [
    {
     "data": {
      "text/plain": [
       "11937×1000 Matrix{Float64}:\n",
       "  0.0          0.0          0.0          …   0.0          0.0\n",
       " -0.00738537   0.00135768  -0.00147918      -0.0146004    0.000165136\n",
       "  0.0          0.00135768   0.0              0.0          0.000165136\n",
       "  0.0158998    0.0131556   -0.00433268       0.0100337    0.00737574\n",
       "  0.0158998    0.0131556    0.0              0.0100337    0.00737574\n",
       "  0.00534337   0.0216311   -0.00418595   …   0.00857914   0.0110006\n",
       "  0.00534337   0.0216311    0.0              0.00857914   0.0110006\n",
       " -0.00827171   0.0269239    0.000587117     -0.00302504  -0.00359796\n",
       "  0.0          0.0269239    0.000587117      0.0          0.0\n",
       " -0.0144311    0.0207348    0.0133811       -0.00852418  -0.000298743\n",
       "  ⋮                                      ⋱               \n",
       " 17.6421      20.1533      24.9905          18.887       24.3464\n",
       " 17.6421      20.1533      24.9856          18.9414      24.3483\n",
       " 17.6421      20.1533      24.9856       …  18.9414      24.3483\n",
       " 17.6421      20.1533      24.9856          18.9414      24.3483\n",
       " 17.6421      20.1533      24.9856          18.9322      24.3657\n",
       " 17.6421      20.1533      24.9856          18.9322      24.3657\n",
       " 17.6421      20.1533      24.9856          18.9322      24.3657\n",
       " 17.6421      20.1533      24.9856       …  18.9397      24.3775\n",
       " 17.6421      20.1533      24.9856          18.9397      24.3775"
      ]
     },
     "metadata": {},
     "output_type": "display_data"
    }
   ],
   "source": [
    "# === Define the non-negative callback and the SDE Problem ===\n",
    "function project!(integrator)\n",
    "    integrator.u .= max.(integrator.u, 0.0)\n",
    "end\n",
    "proj_cb = DiscreteCallback((u,t,integrator) -> true, project!)\n",
    "\n",
    "sdeprob = SDEProblem(f!, noise!, u0, tspan, params)\n",
    "\n",
    "# === Simulate the scenarios ===\n",
    "M = 1000  # Number of simulations\n",
    "\n",
    "ensemble_prob = EnsembleProblem(sdeprob, prob_func = (prob, i, repeat) -> remake(prob, u0 = u0))\n",
    "ensemble_sol = solve(ensemble_prob, EM(), EnsembleThreads(), trajectories=M, dt=dt,\n",
    "                     saveat=tsteps, callback=proj_cb)\n",
    "\n",
    "# Extract results\n",
    "Xact_mat = hcat([sol[1, :] for sol in ensemble_sol]...)\n",
    "Xinact_mat = hcat([sol[2, :] for sol in ensemble_sol]...)\n",
    "N_mat = hcat([sol[3, :] for sol in ensemble_sol]...)\n",
    "Suc_mat = hcat([sol[4, :] for sol in ensemble_sol]...)\n",
    "FruGlu_mat = hcat([sol[5, :] for sol in ensemble_sol]...)\n",
    "P_mat = hcat([sol[6, :] for sol in ensemble_sol]...)\n"
   ]
  },
  {
   "cell_type": "markdown",
   "id": "39626234",
   "metadata": {},
   "source": [
    "### Longstaff-Schwartz Utilities"
   ]
  },
  {
   "cell_type": "code",
   "execution_count": 89,
   "id": "c522d6ac",
   "metadata": {},
   "outputs": [
    {
     "data": {
      "text/plain": [
       "laguerre_design_matrix (generic function with 1 method)"
      ]
     },
     "metadata": {},
     "output_type": "display_data"
    }
   ],
   "source": [
    "# Laguerre basis functions up to degree 3\n",
    "function laguerre_design_matrix(y::Vector{Float64}, d::Int)\n",
    "    Φ = zeros(length(y), d + 1)\n",
    "    for i in 1:length(y)\n",
    "        Φ[i,1] = 1.0\n",
    "        if d >= 1\n",
    "            Φ[i,2] = 1 - y[i]\n",
    "        end\n",
    "        if d >= 2\n",
    "            Φ[i,3] = 1 - 2*y[i] + 0.5*y[i]^2\n",
    "        end\n",
    "        if d >= 3\n",
    "            Φ[i,4] = 1 - 3*y[i] + 1.5*y[i]^2 - (1/6)*y[i]^3\n",
    "        end\n",
    "    end\n",
    "    return Φ\n",
    "end"
   ]
  }
 ],
 "metadata": {
  "kernelspec": {
   "display_name": "Julia 1.11.5",
   "language": "julia",
   "name": "julia-1.11"
  },
  "language_info": {
   "file_extension": ".jl",
   "mimetype": "application/julia",
   "name": "julia",
   "version": "1.11.5"
  }
 },
 "nbformat": 4,
 "nbformat_minor": 5
}
